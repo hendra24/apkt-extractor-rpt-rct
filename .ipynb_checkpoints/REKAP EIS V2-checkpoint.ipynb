{
 "cells": [
  {
   "cell_type": "markdown",
   "id": "eb0b5212",
   "metadata": {},
   "source": [
    "## PROCESSOR DATA RCT DAN RST DARI APKT "
   ]
  },
  {
   "cell_type": "code",
   "execution_count": 1,
   "id": "8a4061fe",
   "metadata": {},
   "outputs": [
    {
     "data": {
      "application/vnd.jupyter.widget-view+json": {
       "model_id": "b7e75a55169349b8850b4bf725634a36",
       "version_major": 2,
       "version_minor": 0
      },
      "text/plain": [
       "FileUpload(value={}, accept='.html', description='Upload')"
      ]
     },
     "metadata": {},
     "output_type": "display_data"
    }
   ],
   "source": [
    "import pandas as pd\n",
    "from ipywidgets import FileUpload\n",
    "import os\n",
    "from bs4 import BeautifulSoup\n",
    "\n",
    "upload = FileUpload(accept='.html')\n",
    "upload"
   ]
  },
  {
   "cell_type": "code",
   "execution_count": 485,
   "id": "1193987c",
   "metadata": {},
   "outputs": [
    {
     "data": {
      "text/plain": [
       "'# Get the content and filename of the uploaded file\\ncontent = upload.data[0]\\nfilename = upload.metadata[0][\\'name\\']\\n\\nprint(filename)\\n\\n# Save the uploaded file to the current working directory\\nwith open(filename, \\'wb\\') as f:\\n    f.write(content)\\n\\n#open saved file\\nwith open(filename, \\'r\\') as f:\\n    soup = BeautifulSoup(f, \\'html.parser\\')\\n\\n#Exctract date\\ndf_list = pd.read_html(filename)\\n#unit = df_list[1].iloc[1][1]\\n#unit = unit[6:]\\n\\nprint(len(df_list))\\n#print(unit)\\n\\n# Find the specific table in the HTML using its class or id\\ntable = soup.find(\\'table\\')\\n\\n# Extract the data from the table and store it in a list of lists\\ndata = []\\nfor row in table.find_all(\\'tr\\'):\\n    cols = row.find_all(\\'td\\')\\n    cols = [col.text.strip() for col in cols]\\n    data.append(cols)\\n\\ntanggal = data[7]\\ntmp = str.split(tanggal[0])\\nprint(tmp)\\ntanggal = tmp[3]\\nprint(tanggal)\\n\\nkolum = [\\'NO\\',\\'KODE\\',\\'EQUIPMENT\\', \\'TOTAL\\', \\'JML SDH SELESAI\\', \\'% SDH SELESAI\\', \\'JML BLM SELESAI\\', \\'% BLM SELESAI\\', \\'RCT TOTAL\\', \\'RCT RATA2\\', \\'RCT MAX\\', \\'RCT MIN\\', \\'RCT > SLA\\', \\'RCT < SLA\\', \\'RST TOTAL\\', \\'RST RATA2\\', \\'RST MAX\\',\\'RST MIN\\', \\'RST > SLA\\', \\'RST < SLA\\']\\ndata = data[13:]\\ndf = pd.DataFrame(data, columns=kolum)\\n\\n#Add date and unit column\\ndf[\"unit\"] = \"UID\"\\ndf[\"tanggal\"] = tanggal\\n\\n\\n\\n'"
      ]
     },
     "execution_count": 485,
     "metadata": {},
     "output_type": "execute_result"
    }
   ],
   "source": [
    "\"\"\"# Get the content and filename of the uploaded file\n",
    "content = upload.data[0]\n",
    "filename = upload.metadata[0]['name']\n",
    "\n",
    "print(filename)\n",
    "\n",
    "# Save the uploaded file to the current working directory\n",
    "with open(filename, 'wb') as f:\n",
    "    f.write(content)\n",
    "\n",
    "#open saved file\n",
    "with open(filename, 'r') as f:\n",
    "    soup = BeautifulSoup(f, 'html.parser')\n",
    "\n",
    "#Exctract date\n",
    "df_list = pd.read_html(filename)\n",
    "#unit = df_list[1].iloc[1][1]\n",
    "#unit = unit[6:]\n",
    "\n",
    "print(len(df_list))\n",
    "#print(unit)\n",
    "\n",
    "# Find the specific table in the HTML using its class or id\n",
    "table = soup.find('table')\n",
    "\n",
    "# Extract the data from the table and store it in a list of lists\n",
    "data = []\n",
    "for row in table.find_all('tr'):\n",
    "    cols = row.find_all('td')\n",
    "    cols = [col.text.strip() for col in cols]\n",
    "    data.append(cols)\n",
    "\n",
    "tanggal = data[7]\n",
    "tmp = str.split(tanggal[0])\n",
    "print(tmp)\n",
    "tanggal = tmp[3]\n",
    "print(tanggal)\n",
    "\n",
    "kolum = ['NO','KODE','EQUIPMENT', 'TOTAL', 'JML SDH SELESAI', '% SDH SELESAI', 'JML BLM SELESAI', '% BLM SELESAI', 'RCT TOTAL', 'RCT RATA2', 'RCT MAX', 'RCT MIN', 'RCT > SLA', 'RCT < SLA', 'RST TOTAL', 'RST RATA2', 'RST MAX','RST MIN', 'RST > SLA', 'RST < SLA']\n",
    "data = data[13:]\n",
    "df = pd.DataFrame(data, columns=kolum)\n",
    "\n",
    "#Add date and unit column\n",
    "df[\"unit\"] = \"UID\"\n",
    "df[\"tanggal\"] = tanggal\n",
    "\n",
    "\n",
    "\n",
    "\"\"\"\n"
   ]
  },
  {
   "cell_type": "code",
   "execution_count": 2,
   "id": "ed7a6b8c",
   "metadata": {},
   "outputs": [
    {
     "name": "stdout",
     "output_type": "stream",
     "text": [
      "BDG_DES_2022.html\n",
      "3\n",
      "BANDENGAN\n",
      "['PERIODE', 'TANGGAL', ':', '1-Desember-2022', 'SD', 'TGL', '31-Desember-2022']\n",
      "1-Desember-2022\n"
     ]
    }
   ],
   "source": [
    "# Get the content and filename of the uploaded file\n",
    "content = upload.data[0]\n",
    "filename = upload.metadata[0]['name']\n",
    "\n",
    "print(filename)\n",
    "\n",
    "# Save the uploaded file to the current working directory\n",
    "with open(filename, 'wb') as f:\n",
    "    f.write(content)\n",
    "\n",
    "#open saved file\n",
    "with open(filename, 'r') as f:\n",
    "    soup = BeautifulSoup(f, 'html.parser')\n",
    "\n",
    "#Exctract date\n",
    "df_list = pd.read_html(filename)\n",
    "unit = df_list[1].iloc[1][1]\n",
    "unit = unit[6:]\n",
    "\n",
    "print(len(df_list))\n",
    "print(unit)\n",
    "\n",
    "# Find the specific table in the HTML using its class or id\n",
    "table = soup.find('table')\n",
    "\n",
    "# Extract the data from the table and store it in a list of lists\n",
    "data = []\n",
    "for row in table.find_all('tr'):\n",
    "    cols = row.find_all('td')\n",
    "    cols = [col.text.strip() for col in cols]\n",
    "    data.append(cols)\n",
    "\n",
    "tanggal = data[8]\n",
    "tmp = str.split(tanggal[0])\n",
    "print(tmp)\n",
    "tanggal = tmp[3]\n",
    "print(tanggal)\n",
    "\n",
    "kolum = ['NO','KODE','EQUIPMENT', 'TOTAL', 'JML SDH SELESAI', '% SDH SELESAI', 'JML BLM SELESAI', '% BLM SELESAI', 'RCT TOTAL', 'RCT RATA2', 'RCT MAX', 'RCT MIN', 'RCT > SLA', 'RCT < SLA', 'RST TOTAL', 'RST RATA2', 'RST MAX','RST MIN', 'RST > SLA', 'RST < SLA']\n",
    "data = data[13:]\n",
    "df = pd.DataFrame(data, columns=kolum)\n",
    "\n",
    "#Add date and unit column\n",
    "df[\"unit\"] = unit\n",
    "df[\"tanggal\"] = tanggal\n",
    "\n",
    "\n",
    "#File name penampung data gabungan\n",
    "file_name = \"apkt_eis_combined.csv\"\n",
    "\n",
    "\n",
    "\n"
   ]
  },
  {
   "cell_type": "code",
   "execution_count": 487,
   "id": "be4ebe4b",
   "metadata": {},
   "outputs": [
    {
     "name": "stdout",
     "output_type": "stream",
     "text": [
      "  NO   KODE                        EQUIPMENT TOTAL JML SDH SELESAI  \\\n",
      "0  1  11111                          MV Cell     0               0   \n",
      "1  2  11112  Kabel Outgoing s/d Pole Pertama     0               0   \n",
      "2  3  11113                        Kapasitor     0               0   \n",
      "3  4  11114            Relay Outgoing Feeder     0               0   \n",
      "\n",
      "  % SDH SELESAI JML BLM SELESAI % BLM SELESAI RCT TOTAL RCT RATA2  ...  \\\n",
      "0            0%               0            0%         0         0  ...   \n",
      "1            0%               0            0%         0         0  ...   \n",
      "2            0%               0            0%         0         0  ...   \n",
      "3            0%               0            0%         0         0  ...   \n",
      "\n",
      "  RCT > SLA RCT < SLA RST TOTAL RST RATA2           RST MAX           RST MIN  \\\n",
      "0         0         0         0         0  0 - 00 : 00 : 00  0 - 00 : 00 : 00   \n",
      "1         0         0         0         0  0 - 00 : 00 : 00  0 - 00 : 00 : 00   \n",
      "2         0         0         0         0  0 - 00 : 00 : 00  0 - 00 : 00 : 00   \n",
      "3         0         0         0         0  0 - 00 : 00 : 00  0 - 00 : 00 : 00   \n",
      "\n",
      "  RST > SLA RST < SLA           unit          tanggal  \n",
      "0         0         0  TANJUNG PRIOK  1-Februari-2023  \n",
      "1         0         0  TANJUNG PRIOK  1-Februari-2023  \n",
      "2         0         0  TANJUNG PRIOK  1-Februari-2023  \n",
      "3         0         0  TANJUNG PRIOK  1-Februari-2023  \n",
      "\n",
      "[4 rows x 22 columns]\n",
      "padam_unplaned_gi.csv exists.\n",
      "padam_unplaned_penyulang.csv exists.\n",
      "padam_unplaned_gd.csv exists.\n",
      "padam_unplaned_jtr.csv exists.\n",
      "padam_unplaned_app.csv exists.\n"
     ]
    },
    {
     "name": "stderr",
     "output_type": "stream",
     "text": [
      "C:\\Users\\Hendra\\AppData\\Local\\Temp\\ipykernel_39560\\1682208859.py:2: FutureWarning: The frame.append method is deprecated and will be removed from pandas in a future version. Use pandas.concat instead.\n",
      "  padam_unplaned_gi = padam_unplaned_gi.append(df.iloc[1:5], ignore_index=True)\n",
      "C:\\Users\\Hendra\\AppData\\Local\\Temp\\ipykernel_39560\\1682208859.py:17: FutureWarning: The frame.append method is deprecated and will be removed from pandas in a future version. Use pandas.concat instead.\n",
      "  padam_unplaned_penyulang = padam_unplaned_penyulang.append(df.iloc[7:25], ignore_index=True)\n",
      "C:\\Users\\Hendra\\AppData\\Local\\Temp\\ipykernel_39560\\1682208859.py:30: FutureWarning: The frame.append method is deprecated and will be removed from pandas in a future version. Use pandas.concat instead.\n",
      "  padam_unplaned_gd = padam_unplaned_gd.append(df.iloc[27:36], ignore_index=True)\n",
      "C:\\Users\\Hendra\\AppData\\Local\\Temp\\ipykernel_39560\\1682208859.py:43: FutureWarning: The frame.append method is deprecated and will be removed from pandas in a future version. Use pandas.concat instead.\n",
      "  padam_unplaned_jtr = padam_unplaned_jtr.append(df.iloc[38:42], ignore_index=True)\n",
      "C:\\Users\\Hendra\\AppData\\Local\\Temp\\ipykernel_39560\\1682208859.py:56: FutureWarning: The frame.append method is deprecated and will be removed from pandas in a future version. Use pandas.concat instead.\n",
      "  padam_unplaned_app = padam_unplaned_app.append(df.iloc[44:47], ignore_index=True)\n"
     ]
    }
   ],
   "source": [
    "\n",
    "\n",
    "padam_unplaned_gi = pd.DataFrame(columns=df.columns)\n",
    "padam_unplaned_gi = padam_unplaned_gi.append(df.iloc[1:5], ignore_index=True)\n",
    "padam_unplaned_gi[\"keterangan\"] = \"padam_unplaned_gi\"\n",
    "\n",
    "print(padam_unplaned_gi.head())\n",
    "\n",
    "if os.path.exists(file_name):\n",
    "    print(f\"{file_name} exists.\")\n",
    "    padam_unplaned_gi.to_csv(file_name, mode='a', index = False, header=None)\n",
    "else:\n",
    "    print(f\"{file_name} does not exist.\")\n",
    "    padam_unplaned_gi.to_csv(file_name, index=False)\n",
    "\n",
    "\n",
    "    \n",
    "padam_unplaned_penyulang = pd.DataFrame(columns=df.columns)\n",
    "padam_unplaned_penyulang = padam_unplaned_penyulang.append(df.iloc[7:25], ignore_index=True)\n",
    "padam_unplaned_penyulang[\"keterangan\"] = \"padam_unplaned_penyulang\"\n",
    "\n",
    "if os.path.exists(file_name):\n",
    "    print(f\"{file_name} exists.\")\n",
    "    padam_unplaned_penyulang.to_csv(file_name, mode='a', index = False, header=None)\n",
    "else:\n",
    "    print(f\"{file_name} does not exist.\")\n",
    "    padam_unplaned_penyulang.to_csv(file_name, index=False)\n",
    "    \n",
    "    \n",
    "\n",
    "padam_unplaned_gd = pd.DataFrame(columns=df.columns)\n",
    "padam_unplaned_gd = padam_unplaned_gd.append(df.iloc[27:36], ignore_index=True)\n",
    "padam_unplaned_gd[\"keterangan\"] = \"padam_unplaned_gd\"\n",
    "\n",
    "if os.path.exists(file_name):\n",
    "    print(f\"{file_name} exists.\")\n",
    "    padam_unplaned_gd.to_csv(file_name, mode='a', index = False, header=None)\n",
    "else:\n",
    "    print(f\"{file_name} does not exist.\")\n",
    "    padam_unplaned_gd.to_csv(file_name, index=False)\n",
    "\n",
    "    \n",
    "    \n",
    "padam_unplaned_jtr = pd.DataFrame(columns=df.columns)\n",
    "padam_unplaned_jtr = padam_unplaned_jtr.append(df.iloc[38:42], ignore_index=True)\n",
    "padam_unplaned_jtr[\"keterangan\"] = \"padam_unplaned_jtr\"\n",
    "\n",
    "if os.path.exists(file_name):\n",
    "    print(f\"{file_name} exists.\")\n",
    "    padam_unplaned_jtr.to_csv(file_name, mode='a', index = False, header=None)\n",
    "else:\n",
    "    print(f\"{file_name} does not exist.\")\n",
    "    padam_unplaned_jtr.to_csv(file_name, index=False)\n",
    "    \n",
    "    \n",
    "\n",
    "padam_unplaned_app = pd.DataFrame(columns=df.columns)\n",
    "padam_unplaned_app = padam_unplaned_app.append(df.iloc[44:47], ignore_index=True)\n",
    "\n",
    "file_name = \"padam_unplaned_app.csv\"\n",
    "if os.path.exists(file_name):\n",
    "    print(f\"{file_name} exists.\")\n",
    "    padam_unplaned_app.to_csv(file_name, mode='a', index = False, header=None)\n",
    "else:\n",
    "    print(f\"{file_name} does not exist.\")\n",
    "    padam_unplaned_app.to_csv(file_name, index=False)"
   ]
  },
  {
   "cell_type": "code",
   "execution_count": 488,
   "id": "0fba0459",
   "metadata": {},
   "outputs": [
    {
     "name": "stdout",
     "output_type": "stream",
     "text": [
      "padam_planed_gi.csv exists.\n",
      "padam_planed_penyulang.csv exists.\n",
      "padam_planed_gd.csv exists.\n",
      "padam_planed_jtr.csv exists.\n",
      "padam_planed_app.csv exists.\n"
     ]
    },
    {
     "name": "stderr",
     "output_type": "stream",
     "text": [
      "C:\\Users\\Hendra\\AppData\\Local\\Temp\\ipykernel_39560\\2121339031.py:2: FutureWarning: The frame.append method is deprecated and will be removed from pandas in a future version. Use pandas.concat instead.\n",
      "  padam_planed_gi = padam_planed_gi.append(df.iloc[49:52], ignore_index=True)\n",
      "C:\\Users\\Hendra\\AppData\\Local\\Temp\\ipykernel_39560\\2121339031.py:14: FutureWarning: The frame.append method is deprecated and will be removed from pandas in a future version. Use pandas.concat instead.\n",
      "  padam_planed_penyulang = padam_planed_penyulang.append(df.iloc[54:57], ignore_index=True)\n",
      "C:\\Users\\Hendra\\AppData\\Local\\Temp\\ipykernel_39560\\2121339031.py:26: FutureWarning: The frame.append method is deprecated and will be removed from pandas in a future version. Use pandas.concat instead.\n",
      "  padam_planed_gd = padam_planed_gd.append(df.iloc[59:62], ignore_index=True)\n",
      "C:\\Users\\Hendra\\AppData\\Local\\Temp\\ipykernel_39560\\2121339031.py:38: FutureWarning: The frame.append method is deprecated and will be removed from pandas in a future version. Use pandas.concat instead.\n",
      "  padam_planed_jtr = padam_planed_jtr.append(df.iloc[64:67], ignore_index=True)\n",
      "C:\\Users\\Hendra\\AppData\\Local\\Temp\\ipykernel_39560\\2121339031.py:50: FutureWarning: The frame.append method is deprecated and will be removed from pandas in a future version. Use pandas.concat instead.\n",
      "  padam_planed_app = padam_planed_app.append(df.iloc[69:72], ignore_index=True)\n"
     ]
    }
   ],
   "source": [
    "padam_planed_gi = pd.DataFrame(columns=df.columns)\n",
    "padam_planed_gi = padam_planed_gi.append(df.iloc[49:52], ignore_index=True)\n",
    "\n",
    "file_name = \"padam_planed_gi.csv\"\n",
    "if os.path.exists(file_name):\n",
    "    print(f\"{file_name} exists.\")\n",
    "    padam_planed_gi.to_csv(file_name, mode='a', index = False, header=None)\n",
    "else:\n",
    "    print(f\"{file_name} does not exist.\")\n",
    "    padam_planed_gi.to_csv(file_name, index=False)\n",
    "    \n",
    "\n",
    "padam_planed_penyulang = pd.DataFrame(columns=df.columns)\n",
    "padam_planed_penyulang = padam_planed_penyulang.append(df.iloc[54:57], ignore_index=True)\n",
    "\n",
    "file_name = \"padam_planed_penyulang.csv\"\n",
    "if os.path.exists(file_name):\n",
    "    print(f\"{file_name} exists.\")\n",
    "    padam_planed_penyulang.to_csv(file_name, mode='a', index = False, header=None)\n",
    "else:\n",
    "    print(f\"{file_name} does not exist.\")\n",
    "    padam_planed_penyulang.to_csv(file_name, index=False)\n",
    "\n",
    "    \n",
    "padam_planed_gd = pd.DataFrame(columns=df.columns)\n",
    "padam_planed_gd = padam_planed_gd.append(df.iloc[59:62], ignore_index=True)\n",
    "\n",
    "file_name = \"padam_planed_gd.csv\"\n",
    "if os.path.exists(file_name):\n",
    "    print(f\"{file_name} exists.\")\n",
    "    padam_planed_gd.to_csv(file_name, mode='a', index = False, header=None)\n",
    "else:\n",
    "    print(f\"{file_name} does not exist.\")\n",
    "    padam_planed_gd.to_csv(file_name, index=False)\n",
    "\n",
    "    \n",
    "padam_planed_jtr = pd.DataFrame(columns=df.columns)\n",
    "padam_planed_jtr = padam_planed_jtr.append(df.iloc[64:67], ignore_index=True)\n",
    "\n",
    "file_name = \"padam_planed_jtr.csv\"\n",
    "if os.path.exists(file_name):\n",
    "    print(f\"{file_name} exists.\")\n",
    "    padam_planed_jtr.to_csv(file_name, mode='a', index = False, header=None)\n",
    "else:\n",
    "    print(f\"{file_name} does not exist.\")\n",
    "    padam_planed_jtr.to_csv(file_name, index=False)\n",
    "    \n",
    "\n",
    "padam_planed_app = pd.DataFrame(columns=df.columns)\n",
    "padam_planed_app = padam_planed_app.append(df.iloc[69:72], ignore_index=True)\n",
    "\n",
    "file_name = \"padam_planed_app.csv\"\n",
    "if os.path.exists(file_name):\n",
    "    print(f\"{file_name} exists.\")\n",
    "    padam_planed_app.to_csv(file_name, mode='a', index = False, header=None)\n",
    "else:\n",
    "    print(f\"{file_name} does not exist.\")\n",
    "    padam_planed_app.to_csv(file_name, index=False)\n"
   ]
  },
  {
   "cell_type": "code",
   "execution_count": 489,
   "id": "0f0c2361",
   "metadata": {},
   "outputs": [
    {
     "name": "stderr",
     "output_type": "stream",
     "text": [
      "C:\\Users\\Hendra\\AppData\\Local\\Temp\\ipykernel_39560\\565411113.py:2: FutureWarning: The frame.append method is deprecated and will be removed from pandas in a future version. Use pandas.concat instead.\n",
      "  bencana_gi = bencana_gi.append(df.iloc[74:75], ignore_index=True)\n"
     ]
    },
    {
     "name": "stdout",
     "output_type": "stream",
     "text": [
      "bencana_gi.csv exists.\n",
      "bencana_penyulang.csv exists.\n",
      "bencana_gd.csv exists.\n",
      "bencana_jtr.csv exists.\n",
      "bencana_app.csv exists.\n"
     ]
    },
    {
     "name": "stderr",
     "output_type": "stream",
     "text": [
      "C:\\Users\\Hendra\\AppData\\Local\\Temp\\ipykernel_39560\\565411113.py:15: FutureWarning: The frame.append method is deprecated and will be removed from pandas in a future version. Use pandas.concat instead.\n",
      "  bencana_penyulang = bencana_penyulang.append(df.iloc[77:78], ignore_index=True)\n",
      "C:\\Users\\Hendra\\AppData\\Local\\Temp\\ipykernel_39560\\565411113.py:28: FutureWarning: The frame.append method is deprecated and will be removed from pandas in a future version. Use pandas.concat instead.\n",
      "  bencana_gd = bencana_gd.append(df.iloc[80:81], ignore_index=True)\n",
      "C:\\Users\\Hendra\\AppData\\Local\\Temp\\ipykernel_39560\\565411113.py:40: FutureWarning: The frame.append method is deprecated and will be removed from pandas in a future version. Use pandas.concat instead.\n",
      "  bencana_jtr = bencana_jtr.append(df.iloc[83:84], ignore_index=True)\n",
      "C:\\Users\\Hendra\\AppData\\Local\\Temp\\ipykernel_39560\\565411113.py:52: FutureWarning: The frame.append method is deprecated and will be removed from pandas in a future version. Use pandas.concat instead.\n",
      "  bencana_app = bencana_app.append(df.iloc[86:87], ignore_index=True)\n"
     ]
    }
   ],
   "source": [
    "bencana_gi = pd.DataFrame(columns=df.columns)\n",
    "bencana_gi = bencana_gi.append(df.iloc[74:75], ignore_index=True)\n",
    "\n",
    "file_name = \"bencana_gi.csv\"\n",
    "if os.path.exists(file_name):\n",
    "    print(f\"{file_name} exists.\")\n",
    "    bencana_gi.to_csv(file_name, mode='a', index = False, header=None)\n",
    "else:\n",
    "    print(f\"{file_name} does not exist.\")\n",
    "    bencana_gi.to_csv(file_name, index=False)\n",
    "    \n",
    "    \n",
    "\n",
    "bencana_penyulang = pd.DataFrame(columns=df.columns)\n",
    "bencana_penyulang = bencana_penyulang.append(df.iloc[77:78], ignore_index=True)\n",
    "\n",
    "file_name = \"bencana_penyulang.csv\"\n",
    "if os.path.exists(file_name):\n",
    "    print(f\"{file_name} exists.\")\n",
    "    bencana_penyulang.to_csv(file_name, mode='a', index = False, header=None)\n",
    "else:\n",
    "    print(f\"{file_name} does not exist.\")\n",
    "    bencana_penyulang.to_csv(file_name, index=False)\n",
    "    \n",
    "    \n",
    "\n",
    "bencana_gd = pd.DataFrame(columns=df.columns)\n",
    "bencana_gd = bencana_gd.append(df.iloc[80:81], ignore_index=True)\n",
    "\n",
    "file_name = \"bencana_gd.csv\"\n",
    "if os.path.exists(file_name):\n",
    "    print(f\"{file_name} exists.\")\n",
    "    bencana_gd.to_csv(file_name, mode='a', index = False, header=None)\n",
    "else:\n",
    "    print(f\"{file_name} does not exist.\")\n",
    "    bencana_gd.to_csv(file_name, index=False)\n",
    "    \n",
    "    \n",
    "bencana_jtr = pd.DataFrame(columns=df.columns)\n",
    "bencana_jtr = bencana_jtr.append(df.iloc[83:84], ignore_index=True)\n",
    "\n",
    "file_name = \"bencana_jtr.csv\"\n",
    "if os.path.exists(file_name):\n",
    "    print(f\"{file_name} exists.\")\n",
    "    bencana_jtr.to_csv(file_name, mode='a', index = False, header=None)\n",
    "else:\n",
    "    print(f\"{file_name} does not exist.\")\n",
    "    bencana_jtr.to_csv(file_name, index=False)\n",
    "    \n",
    "\n",
    "bencana_app = pd.DataFrame(columns=df.columns)\n",
    "bencana_app = bencana_app.append(df.iloc[86:87], ignore_index=True)\n",
    "\n",
    "file_name = \"bencana_app.csv\"\n",
    "if os.path.exists(file_name):\n",
    "    print(f\"{file_name} exists.\")\n",
    "    bencana_app.to_csv(file_name, mode='a', index = False, header=None)\n",
    "else:\n",
    "    print(f\"{file_name} does not exist.\")\n",
    "    bencana_app.to_csv(file_name, index=False)"
   ]
  },
  {
   "cell_type": "code",
   "execution_count": 490,
   "id": "b430eeba",
   "metadata": {},
   "outputs": [
    {
     "name": "stdout",
     "output_type": "stream",
     "text": [
      "pelanggan.csv exists.\n"
     ]
    },
    {
     "name": "stderr",
     "output_type": "stream",
     "text": [
      "C:\\Users\\Hendra\\AppData\\Local\\Temp\\ipykernel_39560\\720945456.py:3: FutureWarning: The frame.append method is deprecated and will be removed from pandas in a future version. Use pandas.concat instead.\n",
      "  pelanggan = pelanggan.append(df.iloc[101:107], ignore_index=True)\n"
     ]
    }
   ],
   "source": [
    "pelanggan = pd.DataFrame(columns=df.columns)\n",
    "\n",
    "pelanggan = pelanggan.append(df.iloc[101:107], ignore_index=True)\n",
    "\n",
    "file_name = \"pelanggan.csv\"\n",
    "if os.path.exists(file_name):\n",
    "    print(f\"{file_name} exists.\")\n",
    "    pelanggan.to_csv(file_name, mode='a', index = False, header=None)\n",
    "else:\n",
    "    print(f\"{file_name} does not exist.\")\n",
    "    pelanggan.to_csv(file_name, index=False)"
   ]
  },
  {
   "cell_type": "code",
   "execution_count": null,
   "id": "b50ee309",
   "metadata": {},
   "outputs": [],
   "source": []
  },
  {
   "cell_type": "code",
   "execution_count": null,
   "id": "7d09f114",
   "metadata": {},
   "outputs": [],
   "source": []
  }
 ],
 "metadata": {
  "kernelspec": {
   "display_name": "Python 3 (ipykernel)",
   "language": "python",
   "name": "python3"
  },
  "language_info": {
   "codemirror_mode": {
    "name": "ipython",
    "version": 3
   },
   "file_extension": ".py",
   "mimetype": "text/x-python",
   "name": "python",
   "nbconvert_exporter": "python",
   "pygments_lexer": "ipython3",
   "version": "3.9.13"
  }
 },
 "nbformat": 4,
 "nbformat_minor": 5
}
